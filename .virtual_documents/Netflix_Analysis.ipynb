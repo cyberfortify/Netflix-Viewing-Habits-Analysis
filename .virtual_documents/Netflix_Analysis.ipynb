


# Importing necessary libraries
import pandas as pd
import matplotlib.pyplot as plt
import seaborn as sns


# Load the dataset
df = pd.read_csv('netflix_titles.csv')

# Display the first few rows
df.head()


# Basic info about the dataset
df.info()


# Checking for missing values
df.isnull().sum()


# Unique values in each column
df.nunique()





# Fill 'country' column safely without chained assignment
df['country'] = df['country'].fillna('Unknown')

# Strip leading/trailing whitespaces from all object columns
df = df.apply(lambda x: x.str.strip() if x.dtype == 'object' else x)


# Drop rows with missing 'date_added'
df = df.dropna(subset=['date_added'])

# Now convert to datetime (no need to manually specify format)
df['date_added'] = pd.to_datetime(df['date_added'], errors='coerce')


df['year_added'] = df['date_added'].dt.year
df['month_added'] = df['date_added'].dt.month





sns.countplot(data=df, x='type', palette='Set2')
plt.title("Distribution of Content Types on Netflix")
plt.xlabel("Type")
plt.ylabel("Count")
plt.show()








top_countries = df['country'].value_counts().head(10)


top_countries.plot(kind='barh', color='skyblue')
plt.title("Top 10 Content Producing Countries")
plt.xlabel("Number of Titles")
plt.ylabel("Country")
plt.gca().invert_yaxis()
plt.show()





df_year = df['year_added'].value_counts().sort_index()

plt.figure(figsize=(12,6))
sns.lineplot(x=df_year.index, y=df_year.values, marker='o', linewidth=2)
plt.title("Content Added on Netflix Over the Years")
plt.xlabel("Year")
plt.ylabel("Number of Titles")
plt.grid(True)
plt.show()








plt.figure(figsize=(10,5))
sns.countplot(y='rating', data=df, order=df['rating'].value_counts().index, palette='mako')
plt.title("Content Ratings Distribution")
plt.xlabel("Count")
plt.ylabel("Rating")
plt.show()





# Split and explode genres
df_genres = df.assign(genres=df['listed_in'].str.split(',')).explode('genres')
df_genres['genres'] = df_genres['genres'].str.strip()

top_genres = df_genres['genres'].value_counts().head(10)

plt.figure(figsize=(10,6))
sns.barplot(x=top_genres.values, y=top_genres.index, palette='viridis')
plt.title("Top 10 Most Common Genres on Netflix")
plt.xlabel("Count")
plt.ylabel("Genre")
plt.show()






# Extract release year from 'date_added'
df['year_added'] = pd.DatetimeIndex(df['date_added']).year

# Drop missing years
df_years = df.dropna(subset=['year_added'])

# Plot number of titles added per year
plt.figure(figsize=(10,6))
sns.countplot(data=df_years, x='year_added', order=sorted(df_years['year_added'].unique()), palette='coolwarm')
plt.title("Number of Titles Added to Netflix Per Year")
plt.xlabel("Year")
plt.ylabel("Count")
plt.xticks(rotation=45)
plt.show()







